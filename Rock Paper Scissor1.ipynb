{
 "cells": [
  {
   "cell_type": "code",
   "execution_count": null,
   "id": "c0e02584",
   "metadata": {},
   "outputs": [
    {
     "name": "stdout",
     "output_type": "stream",
     "text": [
      "Choose 'r' for rock, 'p' for paper, 's' for scissor: r\n",
      "It's a tie!\n",
      "Choose 'r' for rock, 'p' for paper, 's' for scissor: p\n",
      "You lose this round! s beats p\n"
     ]
    }
   ],
   "source": [
    "import random\n",
    "\n",
    "user_points = 0\n",
    "computer_points = 0\n",
    "round = 0\n",
    "\n",
    "while round < 5:\n",
    "    user_action = input(\"Choose 'r' for rock, 'p' for paper, 's' for scissor: \")\n",
    "    computer_action = random.choice(['r', 'p', 's'])\n",
    "\n",
    "    if user_action == computer_action:\n",
    "        print(\"It's a tie!\")\n",
    "    elif (user_action == 'r' and computer_action == 's') or (user_action == 's' and computer_action == 'p') or (user_action == 'p' and computer_action == 'r'):\n",
    "        user_points += 1\n",
    "        print(f\"You win this round! {user_action} beats {computer_action}\")\n",
    "    else:\n",
    "        computer_points += 1\n",
    "        print(f\"You lose this round! {computer_action} beats {user_action}\")\n",
    "\n",
    "    round += 1\n",
    "\n",
    "print(\"\\nGame over! Results:\")\n",
    "print(f\"User points: {user_points}\\nComputer points: {computer_points}\")\n",
    "\n",
    "if user_points > computer_points:\n",
    "    print(\"You win the game!\")\n",
    "elif user_points < computer_points:\n",
    "    print(\"Computer wins the game!\")\n",
    "else:\n",
    "    print(\"It's a tie game!\")\n",
    "\n"
   ]
  },
  {
   "cell_type": "markdown",
   "id": "45826d70",
   "metadata": {},
   "source": [
    "# Explaination"
   ]
  },
  {
   "cell_type": "code",
   "execution_count": null,
   "id": "d6a4ca0b",
   "metadata": {},
   "outputs": [],
   "source": [
    "# We import the random module to generate the computer's choice.\n",
    "# We set up variables to keep track of user points, computer points, and the current round.\n",
    "# We use a while loop to play a maximum of 5 rounds.\n",
    "# The user selects their action ('r' for rock, 'p' for paper, 's' for scissors).\n",
    "# The computer randomly selects its action.\n",
    "# We compare the user's and computer's actions to determine the winner of the round and update the points accordingly.\n",
    "# The game continues until 5 rounds are completed.\n",
    "# After the game, we display the results and determine the overall winner."
   ]
  }
 ],
 "metadata": {
  "kernelspec": {
   "display_name": "Python 3 (ipykernel)",
   "language": "python",
   "name": "python3"
  },
  "language_info": {
   "codemirror_mode": {
    "name": "ipython",
    "version": 3
   },
   "file_extension": ".py",
   "mimetype": "text/x-python",
   "name": "python",
   "nbconvert_exporter": "python",
   "pygments_lexer": "ipython3",
   "version": "3.9.13"
  }
 },
 "nbformat": 4,
 "nbformat_minor": 5
}
